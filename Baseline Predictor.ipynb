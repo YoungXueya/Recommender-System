{
 "cells": [
  {
   "cell_type": "code",
   "execution_count": 1,
   "metadata": {},
   "outputs": [],
   "source": [
    "import numpy as np\n",
    "import scipy.sparse as sp\n",
    "from sklearn.metrics import mean_squared_error, r2_score\n",
    "from fastFM import als\n",
    "from sklearn.model_selection import train_test_split\n",
    "import pandas as pd\n",
    "from sklearn.feature_extraction import DictVectorizer"
   ]
  },
  {
   "cell_type": "code",
   "execution_count": 9,
   "metadata": {},
   "outputs": [],
   "source": [
    "def loadData(filename):\n",
    "    data=pd.read_csv(filename) \n",
    "    y=data[\"target\"]\n",
    "    x_train, x_test, y_train, y_test = train_test_split(data, y, test_size=0.2, random_state=33)\n",
    "    return (x_train, x_test, y_train, y_test)"
   ]
  },
  {
   "cell_type": "code",
   "execution_count": 37,
   "metadata": {},
   "outputs": [],
   "source": [
    "def adGroupMean(filename):\n",
    "    (x_train, x_test, y_train, y_test)=loadData(filename)\n",
    "    adGroupMean = x_train.groupby(['adGroup'])['target'].mean()\n",
    "    adGroupMean = adGroupMean.to_frame().reset_index()\n",
    "    adGroupMean.rename(columns = {'target': 'AvgRating'}, inplace = True)\n",
    "    \n",
    "    baseline_predictions = pd.merge(x_test, adGroupMean, on=['adGroup'], how='inner')\n",
    "    y_true=baseline_predictions[\"target\"]\n",
    "    y_pred=baseline_predictions[\"AvgRating\"]\n",
    "    eval_rmse = np.sqrt(mean_squared_error(y_true, y_pred))\n",
    "    print(round(eval_rmse,3))\n",
    "        "
   ]
  },
  {
   "cell_type": "code",
   "execution_count": 38,
   "metadata": {},
   "outputs": [
    {
     "name": "stdout",
     "output_type": "stream",
     "text": [
      "0.3970494414764423\n",
      "0.451\n"
     ]
    }
   ],
   "source": [
    "adGroupMean(\"result.csv\")"
   ]
  },
  {
   "cell_type": "code",
   "execution_count": 39,
   "metadata": {},
   "outputs": [],
   "source": [
    "def placementMean(filename):\n",
    "    (x_train, x_test, y_train, y_test)=loadData(filename)\n",
    "    users_ratings = x_train.groupby(['placement'])['target'].mean()\n",
    "    users_ratings = users_ratings.to_frame().reset_index()\n",
    "    users_ratings.rename(columns = {'target': 'AvgRating'}, inplace = True)\n",
    "    print(users_ratings.head())\n",
    "    \n",
    "    baseline_predictions = pd.merge(x_test, users_ratings, on=['placement'], how='inner')\n",
    "    y_true=baseline_predictions[\"target\"]\n",
    "    y_pred=baseline_predictions[\"AvgRating\"]\n",
    "    eval_rmse = np.sqrt(mean_squared_error(y_true, y_pred))\n",
    "\n",
    "    print(round(eval_rmse,3))\n",
    "        "
   ]
  },
  {
   "cell_type": "code",
   "execution_count": 40,
   "metadata": {},
   "outputs": [
    {
     "name": "stdout",
     "output_type": "stream",
     "text": [
      "      placement  AvgRating\n",
      "0  101novel.net   0.296251\n",
      "1    143mov.com   0.240159\n",
      "2    147mov.com   0.371500\n",
      "3    149mov.com   0.256571\n",
      "4    151mov.com   0.233098\n",
      "0.3963745561127633\n",
      "0.366\n"
     ]
    }
   ],
   "source": [
    "placementMean(\"result.csv\")"
   ]
  },
  {
   "cell_type": "code",
   "execution_count": null,
   "metadata": {},
   "outputs": [],
   "source": []
  }
 ],
 "metadata": {
  "kernelspec": {
   "display_name": "Python [conda env:py37]",
   "language": "python",
   "name": "conda-env-py37-py"
  },
  "language_info": {
   "codemirror_mode": {
    "name": "ipython",
    "version": 3
   },
   "file_extension": ".py",
   "mimetype": "text/x-python",
   "name": "python",
   "nbconvert_exporter": "python",
   "pygments_lexer": "ipython3",
   "version": "3.7.5"
  }
 },
 "nbformat": 4,
 "nbformat_minor": 2
}
