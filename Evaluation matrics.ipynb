{
 "cells": [
  {
   "cell_type": "markdown",
   "metadata": {},
   "source": [
    "### Evaluation Matrics\n",
    "\n",
    "#### 1. For rating systems\n",
    "(1) RMSE \n",
    "\n",
    "(2) MAE"
   ]
  },
  {
   "cell_type": "code",
   "execution_count": 1,
   "metadata": {},
   "outputs": [],
   "source": [
    "def RMSE(records):\n",
    "    return math.sqrt(sum([(rui-pui)*(rui-pui) for u,i,rui,pui in records])/ float(len(records)))\n",
    "\n",
    "def MAE(records):\n",
    "    return sum([abs(rui-pui) for u,i,rui,pui in records])/ float(len(records))"
   ]
  },
  {
   "cell_type": "markdown",
   "metadata": {},
   "source": [
    "#### 2.TopN Recommendation\n",
    "(1) Recall\n",
    "\n",
    "(2) Precision"
   ]
  },
  {
   "cell_type": "code",
   "execution_count": 2,
   "metadata": {},
   "outputs": [],
   "source": [
    "def PrecisionRecall(test, N):\n",
    "    hit = 0\n",
    "    n_recall = 0\n",
    "    n_precision = 0\n",
    "    for user, items in test.items():\n",
    "        rank = Recommend(user, N)\n",
    "        hit += len(rank & items)\n",
    "        n_recall += len(items)\n",
    "        n_precision += N\n",
    "    return [hit / (1.0 * n_recall), hit / (1.0 * n_precision)]"
   ]
  },
  {
   "cell_type": "markdown",
   "metadata": {},
   "source": [
    "#### 3.Coverage\n",
    "For the reason to cover all items in one system.\n",
    "\n",
    "Coverage=|items recommended|/|I|\n",
    "\n",
    "(1) GINI Index\n",
    "\n",
    "(2) Entropy. \n",
    "The bigger the entropy, the smaller the coverage."
   ]
  },
  {
   "cell_type": "code",
   "execution_count": 4,
   "metadata": {},
   "outputs": [],
   "source": [
    "def GiniIndex(p):\n",
    "    j = 1\n",
    "    n = len(p)\n",
    "    G = 0\n",
    "    for item, weight in sorted(p.items(), key=itemgetter(1)):\n",
    "        G += (2 * j - n - 1) * weight\n",
    "    return G / float(n - 1)"
   ]
  }
 ],
 "metadata": {
  "kernelspec": {
   "display_name": "Python [conda env:py37]",
   "language": "python",
   "name": "conda-env-py37-py"
  },
  "language_info": {
   "codemirror_mode": {
    "name": "ipython",
    "version": 3
   },
   "file_extension": ".py",
   "mimetype": "text/x-python",
   "name": "python",
   "nbconvert_exporter": "python",
   "pygments_lexer": "ipython3",
   "version": "3.7.5"
  }
 },
 "nbformat": 4,
 "nbformat_minor": 2
}
