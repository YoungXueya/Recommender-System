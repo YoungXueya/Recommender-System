{
 "cells": [
  {
   "cell_type": "markdown",
   "metadata": {},
   "source": [
    "## Packages"
   ]
  },
  {
   "cell_type": "code",
   "execution_count": 1,
   "metadata": {},
   "outputs": [],
   "source": [
    "import numpy as np\n",
    "import pandas as pd\n",
    "from sklearn.preprocessing import LabelEncoder\n",
    "from tensorflow.python.keras.preprocessing.sequence import pad_sequences\n",
    "\n",
    "from deepctr.models import DeepFM\n",
    "from deepctr.inputs import SparseFeat, VarLenSparseFeat,get_feature_names\n",
    "import pandas_profiling\n",
    "from sklearn.model_selection import train_test_split"
   ]
  },
  {
   "cell_type": "markdown",
   "metadata": {},
   "source": [
    "##  Process Language and Locations            "
   ]
  },
  {
   "cell_type": "code",
   "execution_count": 70,
   "metadata": {},
   "outputs": [
    {
     "name": "stderr",
     "output_type": "stream",
     "text": [
      "/home/yxy/anaconda3/envs/py37/lib/python3.7/site-packages/IPython/core/interactiveshell.py:3058: DtypeWarning: Columns (4,6,7,8,9,13,14,15,16,17,18,21,22,24,26,27,28,29,30,31,32,33,34,35,42,44,46,48,54,56,57,62,65,66) have mixed types. Specify dtype option on import or set low_memory=False.\n",
      "  interactivity=interactivity, compiler=compiler, result=result)\n"
     ]
    }
   ],
   "source": [
    "Campaign=pd.read_csv(\"Campaign.csv\")"
   ]
  },
  {
   "cell_type": "code",
   "execution_count": 72,
   "metadata": {},
   "outputs": [
    {
     "name": "stdout",
     "output_type": "stream",
     "text": [
      "47\n",
      "1025\n"
     ]
    }
   ],
   "source": [
    "print(len(pd.unique(Campaign[\"languageCode\"])))\n",
    "print(len(pd.unique(Campaign[\"locationName\"])))"
   ]
  },
  {
   "cell_type": "code",
   "execution_count": 103,
   "metadata": {},
   "outputs": [
    {
     "name": "stdout",
     "output_type": "stream",
     "text": [
      "campaignId\n",
      "3807257         [Hong Kong]\n",
      "20572439    [United States]\n",
      "20858009    [United States]\n",
      "21659909        [Singapore]\n",
      "35073532    [United States]\n",
      "Name: locationName, dtype: object\n"
     ]
    }
   ],
   "source": [
    "CampaignLoc=Campaign[Campaign[\"criterionType\"]==\"LOCATION\"][[\"campaignId\",\"locationName\"]].groupby(['campaignId'])   \n",
    "CampaignLoc=CampaignLoc[\"locationName\"].apply(list)\n",
    "print(CampaignLoc.head())\n",
    "CampaignLANG.to_csv(\"LANGUAGE_processed.csv\")\n",
    "CampaignLoc.to_csv(\"Location_processed.csv\")"
   ]
  },
  {
   "cell_type": "code",
   "execution_count": 98,
   "metadata": {},
   "outputs": [
    {
     "name": "stdout",
     "output_type": "stream",
     "text": [
      "   campaignId       locationName     languageCode\n",
      "0     3807257      ['Hong Kong']  ['en', 'zh_TW']\n",
      "1    20572439  ['United States']           ['en']\n",
      "2    20858009  ['United States']           ['en']\n",
      "3    21659909      ['Singapore']           ['en']\n",
      "4    35073532  ['United States']           ['en']\n"
     ]
    }
   ],
   "source": [
    "CampaignLANG=pd.read_csv(\"LANGUAGE_processed.csv\")\n",
    "CampaignLoc=pd.read_csv(\"Location_processed.csv\")\n",
    "\n",
    "Campaign = pd.merge(CampaignLoc,\n",
    "                 CampaignLANG,\n",
    "                 how='inner', on=\"campaignId\"\n",
    "                 )\n",
    "\n",
    "print(Campaign.head())\n",
    "Campaign.to_csv(\"Campaign_processed.csv\")\n"
   ]
  },
  {
   "cell_type": "markdown",
   "metadata": {},
   "source": [
    "## Filter data with impression > threshold"
   ]
  },
  {
   "cell_type": "code",
   "execution_count": 40,
   "metadata": {
    "scrolled": true
   },
   "outputs": [
    {
     "name": "stdout",
     "output_type": "stream",
     "text": [
      "ith iter 1\n",
      "ith iter 2\n",
      "ith iter 3\n",
      "ith iter 4\n",
      "ith iter 5\n",
      "ith iter 6\n",
      "ith iter 7\n",
      "ith iter 8\n",
      "ith iter 9\n",
      "ith iter 10\n",
      "ith iter 11\n",
      "ith iter 12\n",
      "ith iter 13\n",
      "ith iter 14\n",
      "ith iter 15\n",
      "ith iter 16\n",
      "ith iter 17\n",
      "ith iter 18\n",
      "ith iter 19\n",
      "ith iter 20\n",
      "ith iter 21\n"
     ]
    }
   ],
   "source": [
    "data=pd.read_csv(\"./dac/Adwords/AW_PlacementPerformanceReport_201912201603.csv\",chunksize=1000000)\n",
    "i=0\n",
    "for placement in data:\n",
    "    i+=1\n",
    "    print(\"ith iter\",i)\n",
    "    c=placement['Ctr'].apply(lambda x: 1 if x > 0 else 0)\n",
    "    # Remove records with less than 100 Impressions\n",
    "    grouped = placement[(placement[\"Impressions\"] >= 20)]\n",
    "    grouped=grouped[['BaseAdGroupId','Criteria','CampaignId','ActiveViewCpm','ActiveViewCtr','ActiveViewImpressions','ActiveViewMeasurability','ActiveViewMeasurableCost','ActiveViewMeasurableImpressions',\n",
    "                     'ActiveViewViewability','AverageCpc','Impressions','Ctr']]\n",
    "    if i==1:\n",
    "        grouped.to_csv(\"./dac/Adwords/impression20.csv\",mode='a') \n",
    "    else:\n",
    "        grouped.to_csv(\"./dac/Adwords/impression20.csv\",mode='a',header=False) "
   ]
  },
  {
   "cell_type": "markdown",
   "metadata": {},
   "source": [
    "## Split Before Process"
   ]
  },
  {
   "cell_type": "code",
   "execution_count": 3,
   "metadata": {},
   "outputs": [],
   "source": [
    "from sklearn.model_selection import train_test_split\n",
    "data=pd.read_csv(\"./dac/Adwords/impression20.csv\")\n"
   ]
  },
  {
   "cell_type": "code",
   "execution_count": 15,
   "metadata": {},
   "outputs": [
    {
     "name": "stdout",
     "output_type": "stream",
     "text": [
      "<class 'pandas.core.frame.DataFrame'>\n",
      "RangeIndex: 4962248 entries, 0 to 4962247\n",
      "Data columns (total 15 columns):\n",
      "Unnamed: 0                         int64\n",
      "Unnamed: 0.1                       int64\n",
      "BaseAdGroupId                      int64\n",
      "Criteria                           object\n",
      "CampaignId                         int64\n",
      "ActiveViewCpm                      float64\n",
      "ActiveViewCtr                      float64\n",
      "ActiveViewImpressions              int64\n",
      "ActiveViewMeasurability            float64\n",
      "ActiveViewMeasurableCost           float64\n",
      "ActiveViewMeasurableImpressions    int64\n",
      "ActiveViewViewability              float64\n",
      "AverageCpc                         float64\n",
      "Impressions                        int64\n",
      "Ctr                                float64\n",
      "dtypes: float64(7), int64(7), object(1)\n",
      "memory usage: 567.9+ MB\n"
     ]
    }
   ],
   "source": [
    "train=pd.read_csv(\"./dac/Adwords/Train2020.csv\")\n",
    "train.info()"
   ]
  },
  {
   "cell_type": "code",
   "execution_count": 14,
   "metadata": {},
   "outputs": [
    {
     "name": "stdout",
     "output_type": "stream",
     "text": [
      "<class 'pandas.core.frame.DataFrame'>\n",
      "RangeIndex: 1240562 entries, 0 to 1240561\n",
      "Data columns (total 15 columns):\n",
      "Unnamed: 0                         1240562 non-null int64\n",
      "Unnamed: 0.1                       1240562 non-null int64\n",
      "BaseAdGroupId                      1240562 non-null int64\n",
      "Criteria                           1240562 non-null object\n",
      "CampaignId                         1240562 non-null int64\n",
      "ActiveViewCpm                      1240562 non-null float64\n",
      "ActiveViewCtr                      1240562 non-null float64\n",
      "ActiveViewImpressions              1240562 non-null int64\n",
      "ActiveViewMeasurability            1240562 non-null float64\n",
      "ActiveViewMeasurableCost           1240562 non-null float64\n",
      "ActiveViewMeasurableImpressions    1240562 non-null int64\n",
      "ActiveViewViewability              1240562 non-null float64\n",
      "AverageCpc                         1240562 non-null float64\n",
      "Impressions                        1240562 non-null int64\n",
      "Ctr                                1240562 non-null float64\n",
      "dtypes: float64(7), int64(7), object(1)\n",
      "memory usage: 142.0+ MB\n"
     ]
    }
   ],
   "source": [
    "test=pd.read_csv(\"./dac/Adwords/Test2020.csv\")\n",
    "test.info()"
   ]
  },
  {
   "cell_type": "markdown",
   "metadata": {},
   "source": [
    "## Process the adGroup"
   ]
  },
  {
   "cell_type": "code",
   "execution_count": 29,
   "metadata": {},
   "outputs": [],
   "source": [
    "def preprocessing(filename,n_Placement,n_Adgroup,mode,trainResult,testResult):\n",
    "    placement = pd.read_csv(filename)\n",
    "    print(\"start process\")\n",
    "    \n",
    "    grouped=placement.groupby([\"BaseAdGroupId\",\"Criteria\"]).mean()\n",
    "    # Filter data with higher \n",
    "    grouped = grouped.groupby(['BaseAdGroupId'])\n",
    "    grouped = grouped.filter(lambda x: len(x) > n_Placement)\n",
    "    grouped = grouped.groupby(['Criteria'])\n",
    "    grouped = grouped.filter(lambda x: len(x) > n_Adgroup)\n",
    "    train,test=train_test_split(grouped,test_size=0.2,random_state=1024)\n",
    "    train.to_csv(\"./dac/Adwords/grouped_train.csv\")\n",
    "    test.to_csv(\"./dac/Adwords/grouped_test.csv\")\n",
    "    train=pd.read_csv(\"./dac/Adwords/grouped_train.csv\")\n",
    "    test=pd.read_csv(\"./dac/Adwords/grouped_test.csv\")\n",
    "    test.info()\n",
    "\n",
    "    print(\"Saving statistics\")\n",
    "    forAvg=train[['BaseAdGroupId','Criteria','ActiveViewCpm','ActiveViewCtr','ActiveViewImpressions','ActiveViewMeasurability','ActiveViewMeasurableCost','ActiveViewMeasurableImpressions',\n",
    "                     'ActiveViewViewability','AverageCpc','Impressions','Ctr']]\n",
    "    \n",
    "    adGroupAvg=forAvg.groupby('BaseAdGroupId').mean()\n",
    "\n",
    "    adGroupAvg.columns = ['adActiveViewCpm','adActiveViewCtr','adActiveViewImpressions','adActiveViewMeasurability','adActiveViewMeasurableCost',\n",
    "                          'adActiveViewMeasurableImpressions','adActiveViewViewability','adAverageCpc','adImpressions','adCtr']\n",
    "\n",
    "    placementAvg=forAvg.groupby(\"Criteria\").mean()\n",
    "    placementAvg.columns=[\"BaseAdGroupId\",'plaActiveViewCpm','plaActiveViewCtr','plaActiveViewImpressions','plaActiveViewMeasurability','plaActiveViewMeasurableCost',\n",
    "                          'plaActiveViewMeasurableImpressions','plaActiveViewViewability','plaAverageCpc','plaImpressions','plaCtr']\n",
    "    placementAvg = placementAvg.drop(columns=\"BaseAdGroupId\")\n",
    "    adGroupAvg.to_csv(\"./dac/Adwords/adGroupAvg.csv\")\n",
    "    placementAvg.to_csv(\"./dac/Adwords/placementAvg.csv\")\n",
    "    print(\"Filter Criteria: {}\".format(grouped.shape[0]))\n",
    "    c=grouped['Ctr'].apply(lambda x: 1 if x>0 else 0)\n",
    "    print(c.value_counts())\n",
    "    print(\"Start parse\")   \n",
    "#     for dataset in [train,test]:\n",
    "#         data = []\n",
    "#         y = []\n",
    "#         exec(\"grouped={}\".format(dataset))\n",
    "#         grouped.info()\n",
    "#         print(\"------------------------------Finally----------------------------\")\n",
    "#         for row in grouped.iterrows():\n",
    "#             adGroupId, placement,CampaignId, Ctr = row[0][0], row[0][1], row[1]['CampaignId'],row[1]['Ctr']\n",
    "#             data.append({\"BaseAdGroupId\": str(adGroupId), \"Criteria\": str(placement),\"campaignId\":CampaignId,\"placementType\":\"mobileapp\" if placement.find(\"mobileapp::\")>-1 else \"web\"})\n",
    "#             y.append(float(Ctr))\n",
    "#         result=pd.DataFrame.from_dict(data)\n",
    "#         result.insert(0,'target',np.array(y))\n",
    "    train=train[['BaseAdGroupId','Criteria']]\n",
    "    placementAvg=pd.read_csv(\"./dac/Adwords/placementAvg.csv\")\n",
    "    print(\"merge Criteria\")\n",
    "    train= pd.merge(train,\n",
    "                 placementAvg,\n",
    "                 how='left', on=\"Criteria\")\n",
    "    print(\"Merge Placement matrics\")\n",
    "    adGroupAvg=pd.read_csv(\"./dac/Adwords/adGroupAvg.csv\")\n",
    "    adGroupAvg[\"BaseAdGroupId\"] = adGroupAvg[\"BaseAdGroupId\"].astype(str)\n",
    "    train[\"BaseAdGroupId\"]=train[\"BaseAdGroupId\"].astype(str)\n",
    "    train= pd.merge(train,\n",
    "                 adGroupAvg,\n",
    "                 how='left', on=\"BaseAdGroupId\"\n",
    "                 )\n",
    "    print(train.info())\n",
    "    train.to_csv(trainResult)\n",
    "    \n",
    "    test=test[['BaseAdGroupId','Criteria']]\n",
    "    placementAvg=pd.read_csv(\"./dac/Adwords/placementAvg.csv\")\n",
    "    print(\"merge Criteria\")\n",
    "    test= pd.merge(test,\n",
    "                 placementAvg,\n",
    "                 how='left', on=\"Criteria\")\n",
    "    print(\"Merge Placement matrics\")\n",
    "    adGroupAvg=pd.read_csv(\"./dac/Adwords/adGroupAvg.csv\")\n",
    "    adGroupAvg[\"BaseAdGroupId\"] = adGroupAvg[\"BaseAdGroupId\"].astype(str)\n",
    "    test[\"BaseAdGroupId\"]=test[\"BaseAdGroupId\"].astype(str)\n",
    "    test= pd.merge(test,\n",
    "                 adGroupAvg,\n",
    "                 how='left', on=\"BaseAdGroupId\"\n",
    "                 )\n",
    "    print(test.info())\n",
    "    test.to_csv(testResult)"
   ]
  },
  {
   "cell_type": "code",
   "execution_count": 30,
   "metadata": {
    "scrolled": true
   },
   "outputs": [
    {
     "name": "stdout",
     "output_type": "stream",
     "text": [
      "start process\n",
      "<class 'pandas.core.frame.DataFrame'>\n",
      "RangeIndex: 172522 entries, 0 to 172521\n",
      "Data columns (total 14 columns):\n",
      "BaseAdGroupId                      172522 non-null int64\n",
      "Criteria                           172522 non-null object\n",
      "Unnamed: 0                         172522 non-null float64\n",
      "CampaignId                         172522 non-null float64\n",
      "ActiveViewCpm                      172522 non-null float64\n",
      "ActiveViewCtr                      172522 non-null float64\n",
      "ActiveViewImpressions              172522 non-null float64\n",
      "ActiveViewMeasurability            172522 non-null float64\n",
      "ActiveViewMeasurableCost           172522 non-null float64\n",
      "ActiveViewMeasurableImpressions    172522 non-null float64\n",
      "ActiveViewViewability              172522 non-null float64\n",
      "AverageCpc                         172522 non-null float64\n",
      "Impressions                        172522 non-null float64\n",
      "Ctr                                172522 non-null float64\n",
      "dtypes: float64(12), int64(1), object(1)\n",
      "memory usage: 18.4+ MB\n",
      "Saving statistics\n",
      "Filter Criteria: 862608\n",
      "0    573525\n",
      "1    289083\n",
      "Name: Ctr, dtype: int64\n",
      "Start parse\n",
      "merge Criteria\n",
      "Merge Placement matrics\n",
      "<class 'pandas.core.frame.DataFrame'>\n",
      "Int64Index: 690086 entries, 0 to 690085\n",
      "Data columns (total 22 columns):\n",
      "BaseAdGroupId                         690086 non-null object\n",
      "Criteria                              690086 non-null object\n",
      "plaActiveViewCpm                      690086 non-null float64\n",
      "plaActiveViewCtr                      690086 non-null float64\n",
      "plaActiveViewImpressions              690086 non-null float64\n",
      "plaActiveViewMeasurability            690086 non-null float64\n",
      "plaActiveViewMeasurableCost           690086 non-null float64\n",
      "plaActiveViewMeasurableImpressions    690086 non-null float64\n",
      "plaActiveViewViewability              690086 non-null float64\n",
      "plaAverageCpc                         690086 non-null float64\n",
      "plaImpressions                        690086 non-null float64\n",
      "plaCtr                                690086 non-null float64\n",
      "adActiveViewCpm                       690086 non-null float64\n",
      "adActiveViewCtr                       690086 non-null float64\n",
      "adActiveViewImpressions               690086 non-null float64\n",
      "adActiveViewMeasurability             690086 non-null float64\n",
      "adActiveViewMeasurableCost            690086 non-null float64\n",
      "adActiveViewMeasurableImpressions     690086 non-null float64\n",
      "adActiveViewViewability               690086 non-null float64\n",
      "adAverageCpc                          690086 non-null float64\n",
      "adImpressions                         690086 non-null float64\n",
      "adCtr                                 690086 non-null float64\n",
      "dtypes: float64(20), object(2)\n",
      "memory usage: 121.1+ MB\n",
      "None\n",
      "merge Criteria\n",
      "Merge Placement matrics\n",
      "<class 'pandas.core.frame.DataFrame'>\n",
      "Int64Index: 172522 entries, 0 to 172521\n",
      "Data columns (total 22 columns):\n",
      "BaseAdGroupId                         172522 non-null object\n",
      "Criteria                              172522 non-null object\n",
      "plaActiveViewCpm                      172522 non-null float64\n",
      "plaActiveViewCtr                      172522 non-null float64\n",
      "plaActiveViewImpressions              172522 non-null float64\n",
      "plaActiveViewMeasurability            172522 non-null float64\n",
      "plaActiveViewMeasurableCost           172522 non-null float64\n",
      "plaActiveViewMeasurableImpressions    172522 non-null float64\n",
      "plaActiveViewViewability              172522 non-null float64\n",
      "plaAverageCpc                         172522 non-null float64\n",
      "plaImpressions                        172522 non-null float64\n",
      "plaCtr                                172522 non-null float64\n",
      "adActiveViewCpm                       172520 non-null float64\n",
      "adActiveViewCtr                       172520 non-null float64\n",
      "adActiveViewImpressions               172520 non-null float64\n",
      "adActiveViewMeasurability             172520 non-null float64\n",
      "adActiveViewMeasurableCost            172520 non-null float64\n",
      "adActiveViewMeasurableImpressions     172520 non-null float64\n",
      "adActiveViewViewability               172520 non-null float64\n",
      "adAverageCpc                          172520 non-null float64\n",
      "adImpressions                         172520 non-null float64\n",
      "adCtr                                 172520 non-null float64\n",
      "dtypes: float64(20), object(2)\n",
      "memory usage: 30.3+ MB\n",
      "None\n"
     ]
    }
   ],
   "source": [
    "preprocessing(\"./dac/Adwords/impression20.csv\",20,20,\"Train\",\"./dac/Adwords/train2020Processed.csv\",\"./dac/Adwords/test2020Processed.csv\")"
   ]
  },
  {
   "cell_type": "code",
   "execution_count": 18,
   "metadata": {},
   "outputs": [
    {
     "name": "stdout",
     "output_type": "stream",
     "text": [
      "<class 'pandas.core.frame.DataFrame'>\n",
      "RangeIndex: 6202810 entries, 0 to 6202809\n",
      "Data columns (total 14 columns):\n",
      "Unnamed: 0                         int64\n",
      "BaseAdGroupId                      int64\n",
      "Criteria                           object\n",
      "CampaignId                         int64\n",
      "ActiveViewCpm                      float64\n",
      "ActiveViewCtr                      float64\n",
      "ActiveViewImpressions              int64\n",
      "ActiveViewMeasurability            float64\n",
      "ActiveViewMeasurableCost           float64\n",
      "ActiveViewMeasurableImpressions    int64\n",
      "ActiveViewViewability              float64\n",
      "AverageCpc                         float64\n",
      "Impressions                        int64\n",
      "Ctr                                float64\n",
      "dtypes: float64(7), int64(6), object(1)\n",
      "memory usage: 662.5+ MB\n"
     ]
    }
   ],
   "source": [
    "data=pd.read_csv(\"./dac//Adwords/impression20.csv\")\n",
    "data.info()"
   ]
  },
  {
   "cell_type": "code",
   "execution_count": 53,
   "metadata": {},
   "outputs": [
    {
     "name": "stdout",
     "output_type": "stream",
     "text": [
      "7775\n",
      "4403\n"
     ]
    }
   ],
   "source": [
    "data=pd.read_csv(\"./dac//Adwords/adGroup_processed2020.csv\")\n",
    "print(len(pd.unique(data['Criteria'])))\n",
    "print(len(pd.unique(data['BaseAdGroupId'])))"
   ]
  },
  {
   "cell_type": "code",
   "execution_count": 43,
   "metadata": {
    "scrolled": true
   },
   "outputs": [
    {
     "name": "stdout",
     "output_type": "stream",
     "text": [
      "start process\n",
      "Filter Criteria: 862608  \n",
      "0    573525\n",
      "1    289083\n",
      "Name: Ctr, dtype: int64\n",
      "Start parse\n",
      "------------------------------Finally----------------------------\n",
      "merge Criteria\n",
      "  BaseAdGroupId     Criteria   campaignId placementType  target  \\\n",
      "0    4391795246   143mov.com  111013286.0           web     0.0   \n",
      "1    4391795246   151mov.com  111013286.0           web     0.0   \n",
      "2    4391795246   153mov.com  111013286.0           web     0.0   \n",
      "3    4391795246   157mov.com  111013286.0           web     0.0   \n",
      "4    4391795246  17track.net  111013286.0           web     0.0   \n",
      "\n",
      "   plaActiveViewCpm  plaActiveViewCtr  plaActiveViewImpressions  \\\n",
      "0          9.815985          0.370241                257.283039   \n",
      "1         11.549335          0.335896                185.008934   \n",
      "2          6.674319          0.392401                 49.235725   \n",
      "3          6.109229          0.190103                168.325549   \n",
      "4          6.564894          0.674315                106.153415   \n",
      "\n",
      "   plaActiveViewMeasurability  plaActiveViewMeasurableCost  ...  \\\n",
      "0                   90.020929                     2.462820  ...   \n",
      "1                   97.042542                     1.114362  ...   \n",
      "2                   86.189078                     0.353631  ...   \n",
      "3                   64.550593                     0.398220  ...   \n",
      "4                   97.229220                     0.535789  ...   \n",
      "\n",
      "   adActiveViewCpm  adActiveViewCtr  adActiveViewImpressions  \\\n",
      "0         8.263745         0.326645                88.111008   \n",
      "1         8.263745         0.326645                88.111008   \n",
      "2         8.263745         0.326645                88.111008   \n",
      "3         8.263745         0.326645                88.111008   \n",
      "4         8.263745         0.326645                88.111008   \n",
      "\n",
      "   adActiveViewMeasurability  adActiveViewMeasurableCost  \\\n",
      "0                   83.89701                    0.547647   \n",
      "1                   83.89701                    0.547647   \n",
      "2                   83.89701                    0.547647   \n",
      "3                   83.89701                    0.547647   \n",
      "4                   83.89701                    0.547647   \n",
      "\n",
      "   adActiveViewMeasurableImpressions  adActiveViewViewability  adAverageCpc  \\\n",
      "0                         158.159555                67.289527      0.414515   \n",
      "1                         158.159555                67.289527      0.414515   \n",
      "2                         158.159555                67.289527      0.414515   \n",
      "3                         158.159555                67.289527      0.414515   \n",
      "4                         158.159555                67.289527      0.414515   \n",
      "\n",
      "   adImpressions     adCtr  \n",
      "0     202.399505  0.258865  \n",
      "1     202.399505  0.258865  \n",
      "2     202.399505  0.258865  \n",
      "3     202.399505  0.258865  \n",
      "4     202.399505  0.258865  \n",
      "\n",
      "[5 rows x 25 columns]\n"
     ]
    }
   ],
   "source": [
    "preprocessing(\"./dac/Adwords/impression20.csv\",20,20,20,100,100,\"./dac/Adwords/adGroup_processed2020.csv\")"
   ]
  },
  {
   "cell_type": "code",
   "execution_count": null,
   "metadata": {
    "scrolled": true
   },
   "outputs": [],
   "source": [
    "import datetime\n",
    "#long running\n",
    "#do something other \n",
    "placement = pd.read_csv(\"./dac/Adwords/impression50.csv\")\n",
    "print(\"start profiling\")\n",
    "\n",
    "starttime = datetime.datetime.now()\n",
    "pandas_profiling.ProfileReport(placement)\n",
    "\n",
    "endtime = datetime.datetime.now()\n",
    "print (endtime - starttime)"
   ]
  },
  {
   "cell_type": "code",
   "execution_count": 3,
   "metadata": {},
   "outputs": [
    {
     "name": "stdout",
     "output_type": "stream",
     "text": [
      "         Unnamed: 0\n",
      "count  2.934303e+06\n",
      "mean   1.034290e+07\n",
      "std    6.189671e+06\n",
      "min    1.900000e+01\n",
      "25%    4.772822e+06\n",
      "50%    1.024509e+07\n",
      "75%    1.582623e+07\n",
      "max    2.098998e+07\n"
     ]
    }
   ],
   "source": [
    "placement = pd.read_csv(\"./dac/Adwords/impression50.csv\")\n",
    "print(placement.describe())"
   ]
  },
  {
   "cell_type": "code",
   "execution_count": 42,
   "metadata": {
    "scrolled": true
   },
   "outputs": [
    {
     "name": "stdout",
     "output_type": "stream",
     "text": [
      "<class 'pandas.core.frame.DataFrame'>\n",
      "RangeIndex: 6202810 entries, 0 to 6202809\n",
      "Data columns (total 14 columns):\n",
      "Unnamed: 0                         int64\n",
      "BaseAdGroupId                      int64\n",
      "Criteria                           object\n",
      "CampaignId                         int64\n",
      "ActiveViewCpm                      float64\n",
      "ActiveViewCtr                      float64\n",
      "ActiveViewImpressions              int64\n",
      "ActiveViewMeasurability            float64\n",
      "ActiveViewMeasurableCost           float64\n",
      "ActiveViewMeasurableImpressions    int64\n",
      "ActiveViewViewability              float64\n",
      "AverageCpc                         float64\n",
      "Impressions                        int64\n",
      "Ctr                                float64\n",
      "dtypes: float64(7), int64(6), object(1)\n",
      "memory usage: 662.5+ MB\n"
     ]
    }
   ],
   "source": [
    "df=pd.read_csv(\"./dac/Adwords/impression20.csv\")\n",
    "df.info()"
   ]
  },
  {
   "cell_type": "code",
   "execution_count": 4,
   "metadata": {},
   "outputs": [],
   "source": [
    "def joinAdGroupCampain(adGroupFile,CampaignFile,resultFile):\n",
    "    adGroup=pd.read_csv(adGroupFile)\n",
    "    campaign=pd.read_csv(CampaignFile)\n",
    "    processed= pd.merge(adGroup,\n",
    "                 campaign,\n",
    "                 how='inner', on=\"campaignId\"\n",
    "                 )\n",
    "  \n",
    "    processed.drop(columns=\"Unnamed: 0_x\")\n",
    "\n",
    "    print(processed.head())\n",
    "    processed.to_csv(resultFile)"
   ]
  },
  {
   "cell_type": "code",
   "execution_count": 47,
   "metadata": {
    "scrolled": true
   },
   "outputs": [
    {
     "name": "stdout",
     "output_type": "stream",
     "text": [
      "   Unnamed: 0_x  BaseAdGroupId       Criteria   campaignId placementType  \\\n",
      "0             0     4391795246     143mov.com  111013286.0           web   \n",
      "1             1     4391795246     157mov.com  111013286.0           web   \n",
      "2             2     4391795246  23minutos.com  111013286.0           web   \n",
      "3             3     4391795246     881903.com  111013286.0           web   \n",
      "4             4     4391795246   aastocks.com  111013286.0           web   \n",
      "\n",
      "     target  plaActiveViewCpm  plaActiveViewCtr  plaActiveViewImpressions  \\\n",
      "0  0.000000          9.097298          0.331782                452.898172   \n",
      "1  0.000000          5.566029          0.220095                300.758651   \n",
      "2  1.300000         15.893750          0.685250                 41.387500   \n",
      "3  0.000000          9.405371          0.527551                 90.701422   \n",
      "4  0.010123          1.171664          0.026114               1541.453040   \n",
      "\n",
      "   plaActiveViewMeasurability  ...  adActiveViewMeasurability  \\\n",
      "0                   91.873499  ...                  80.119554   \n",
      "1                   57.654758  ...                  80.119554   \n",
      "2                   83.730250  ...                  80.119554   \n",
      "3                   87.486967  ...                  80.119554   \n",
      "4                   82.002413  ...                  80.119554   \n",
      "\n",
      "   adActiveViewMeasurableCost  adActiveViewMeasurableImpressions  \\\n",
      "0                    0.863637                         286.944377   \n",
      "1                    0.863637                         286.944377   \n",
      "2                    0.863637                         286.944377   \n",
      "3                    0.863637                         286.944377   \n",
      "4                    0.863637                         286.944377   \n",
      "\n",
      "   adActiveViewViewability  adAverageCpc  adImpressions     adCtr  \\\n",
      "0                63.419658      0.636913     370.626528  0.183741   \n",
      "1                63.419658      0.636913     370.626528  0.183741   \n",
      "2                63.419658      0.636913     370.626528  0.183741   \n",
      "3                63.419658      0.636913     370.626528  0.183741   \n",
      "4                63.419658      0.636913     370.626528  0.183741   \n",
      "\n",
      "   Unnamed: 0_y   locationName     languageCode  \n",
      "0           429  ['Hong Kong']  ['en', 'zh_TW']  \n",
      "1           429  ['Hong Kong']  ['en', 'zh_TW']  \n",
      "2           429  ['Hong Kong']  ['en', 'zh_TW']  \n",
      "3           429  ['Hong Kong']  ['en', 'zh_TW']  \n",
      "4           429  ['Hong Kong']  ['en', 'zh_TW']  \n",
      "\n",
      "[5 rows x 29 columns]\n"
     ]
    }
   ],
   "source": [
    "joinAdGroupCampain(\"./dac/Adwords/adGroup_processed20.csv\",\"Campaign_processed.csv\")"
   ]
  },
  {
   "cell_type": "code",
   "execution_count": 56,
   "metadata": {
    "scrolled": true
   },
   "outputs": [
    {
     "name": "stdout",
     "output_type": "stream",
     "text": [
      "   Unnamed: 0_x  BaseAdGroupId     Criteria   campaignId placementType  \\\n",
      "0             0     4391795246   143mov.com  111013286.0           web   \n",
      "1             1     4391795246   151mov.com  111013286.0           web   \n",
      "2             2     4391795246   153mov.com  111013286.0           web   \n",
      "3             3     4391795246   157mov.com  111013286.0           web   \n",
      "4             4     4391795246  17track.net  111013286.0           web   \n",
      "\n",
      "   target  plaActiveViewCpm  plaActiveViewCtr  plaActiveViewImpressions  \\\n",
      "0     0.0          9.815985          0.370241                257.283039   \n",
      "1     0.0         11.549335          0.335896                185.008934   \n",
      "2     0.0          6.674319          0.392401                 49.235725   \n",
      "3     0.0          6.109229          0.190103                168.325549   \n",
      "4     0.0          6.564894          0.674315                106.153415   \n",
      "\n",
      "   plaActiveViewMeasurability  ...  adActiveViewMeasurability  \\\n",
      "0                   90.020929  ...                   83.89701   \n",
      "1                   97.042542  ...                   83.89701   \n",
      "2                   86.189078  ...                   83.89701   \n",
      "3                   64.550593  ...                   83.89701   \n",
      "4                   97.229220  ...                   83.89701   \n",
      "\n",
      "   adActiveViewMeasurableCost  adActiveViewMeasurableImpressions  \\\n",
      "0                    0.547647                         158.159555   \n",
      "1                    0.547647                         158.159555   \n",
      "2                    0.547647                         158.159555   \n",
      "3                    0.547647                         158.159555   \n",
      "4                    0.547647                         158.159555   \n",
      "\n",
      "   adActiveViewViewability  adAverageCpc  adImpressions     adCtr  \\\n",
      "0                67.289527      0.414515     202.399505  0.258865   \n",
      "1                67.289527      0.414515     202.399505  0.258865   \n",
      "2                67.289527      0.414515     202.399505  0.258865   \n",
      "3                67.289527      0.414515     202.399505  0.258865   \n",
      "4                67.289527      0.414515     202.399505  0.258865   \n",
      "\n",
      "   Unnamed: 0_y   locationName     languageCode  \n",
      "0           429  ['Hong Kong']  ['en', 'zh_TW']  \n",
      "1           429  ['Hong Kong']  ['en', 'zh_TW']  \n",
      "2           429  ['Hong Kong']  ['en', 'zh_TW']  \n",
      "3           429  ['Hong Kong']  ['en', 'zh_TW']  \n",
      "4           429  ['Hong Kong']  ['en', 'zh_TW']  \n",
      "\n",
      "[5 rows x 29 columns]\n"
     ]
    }
   ],
   "source": [
    "joinAdGroupCampain(\"./dac/Adwords/adGroup_processed2020.csv\",\"Campaign_processed.csv\",\"./dac/Adwords/AllFeatures2020.csv\")"
   ]
  },
  {
   "cell_type": "code",
   "execution_count": 3,
   "metadata": {},
   "outputs": [],
   "source": []
  },
  {
   "cell_type": "code",
   "execution_count": null,
   "metadata": {},
   "outputs": [],
   "source": []
  }
 ],
 "metadata": {
  "kernelspec": {
   "display_name": "Python 3",
   "language": "python",
   "name": "python3"
  },
  "language_info": {
   "codemirror_mode": {
    "name": "ipython",
    "version": 3
   },
   "file_extension": ".py",
   "mimetype": "text/x-python",
   "name": "python",
   "nbconvert_exporter": "python",
   "pygments_lexer": "ipython3",
   "version": "3.7.4"
  },
  "toc": {
   "base_numbering": 1,
   "nav_menu": {},
   "number_sections": true,
   "sideBar": true,
   "skip_h1_title": false,
   "title_cell": "Table of Contents",
   "title_sidebar": "Contents",
   "toc_cell": false,
   "toc_position": {
    "height": "calc(100% - 180px)",
    "left": "10px",
    "top": "150px",
    "width": "499px"
   },
   "toc_section_display": true,
   "toc_window_display": true
  }
 },
 "nbformat": 4,
 "nbformat_minor": 2
}
